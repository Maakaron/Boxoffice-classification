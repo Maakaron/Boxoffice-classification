{
 "cells": [
  {
   "cell_type": "code",
   "execution_count": 38,
   "metadata": {},
   "outputs": [
    {
     "data": {
      "text/plain": [
       "(7224, 20)"
      ]
     },
     "execution_count": 38,
     "metadata": {},
     "output_type": "execute_result"
    }
   ],
   "source": [
    "%matplotlib inline\n",
    "import numpy as np\n",
    "import pandas as pd\n",
    "import matplotlib.pyplot as plt\n",
    "\n",
    "data = pd.read_csv('IMDb_movies-refined.csv')\n",
    "data.shape"
   ]
  },
  {
   "cell_type": "code",
   "execution_count": 40,
   "metadata": {},
   "outputs": [
    {
     "data": {
      "text/plain": [
       "(4658, 20)"
      ]
     },
     "execution_count": 40,
     "metadata": {},
     "output_type": "execute_result"
    }
   ],
   "source": [
    "data = data[(data.language == 'English')]\n",
    "data.shape"
   ]
  },
  {
   "cell_type": "code",
   "execution_count": 41,
   "metadata": {},
   "outputs": [
    {
     "data": {
      "image/png": "[encoded data removed]",
      "text/plain": [
       "<Figure size 432x288 with 1 Axes>"
      ]
     },
     "metadata": {
      "needs_background": "light"
     },
     "output_type": "display_data"
    }
   ],
   "source": [
    "ww_gross_income = data.worlwide_gross_income\n",
    "class_bins = [0]*9\n",
    "for rev in ww_gross_income:\n",
    "    if rev <= 1000000:\n",
    "        class_bins[0]+=1\n",
    "    elif rev <= 10000000:\n",
    "        class_bins[1]+=1\n",
    "    elif rev <= 20000000:\n",
    "        class_bins[2]+=1\n",
    "    elif rev <= 40000000:\n",
    "        class_bins[3]+=1\n",
    "    elif rev <= 65000000:\n",
    "        class_bins[4]+=1\n",
    "    elif rev <= 100000000:\n",
    "        class_bins[5]+=1\n",
    "    elif rev <= 150000000:\n",
    "        class_bins[6]+=1\n",
    "    elif rev <= 200000000:\n",
    "        class_bins[7]+=1\n",
    "    else:\n",
    "        class_bins[8]+=1\n",
    "        plt.bar(np.arange(9), class_bins)\n",
    "plt.xticks(np.arange(9), np.arange(1,10))\n",
    "plt.xlabel('Class')\n",
    "plt.ylabel('Number of movies')\n",
    "plt.show()"
   ]
  },
  {
   "cell_type": "code",
   "execution_count": 44,
   "metadata": {},
   "outputs": [
    {
     "data": {
      "text/plain": [
       "['imdb_title_id',\n",
       " 'title',\n",
       " 'year',\n",
       " 'date_published',\n",
       " 'genre',\n",
       " 'duration',\n",
       " 'country',\n",
       " 'language',\n",
       " 'director',\n",
       " 'writer',\n",
       " 'production_company',\n",
       " 'actors',\n",
       " 'description',\n",
       " 'avg_vote',\n",
       " 'votes',\n",
       " 'budget',\n",
       " 'usa_gross_income',\n",
       " 'worlwide_gross_income',\n",
       " 'reviews_from_users',\n",
       " 'reviews_from_critics']"
      ]
     },
     "execution_count": 44,
     "metadata": {},
     "output_type": "execute_result"
    }
   ],
   "source": [
    "list(data.columns.values)"
   ]
  },
  {
   "cell_type": "code",
   "execution_count": 45,
   "metadata": {},
   "outputs": [
    {
     "data": {
      "text/html": [
       "<div>\n",
       "<style scoped>\n",
       "    .dataframe tbody tr th:only-of-type {\n",
       "        vertical-align: middle;\n",
       "    }\n",
       "\n",
       "    .dataframe tbody tr th {\n",
       "        vertical-align: top;\n",
       "    }\n",
       "\n",
       "    .dataframe thead th {\n",
       "        text-align: right;\n",
       "    }\n",
       "</style>\n",
       "<table border=\"1\" class=\"dataframe\">\n",
       "  <thead>\n",
       "    <tr style=\"text-align: right;\">\n",
       "      <th></th>\n",
       "      <th>imdb_title_id</th>\n",
       "      <th>title</th>\n",
       "      <th>date_published</th>\n",
       "      <th>genre</th>\n",
       "      <th>duration</th>\n",
       "      <th>country</th>\n",
       "      <th>language</th>\n",
       "      <th>director</th>\n",
       "      <th>writer</th>\n",
       "      <th>production_company</th>\n",
       "      <th>actors</th>\n",
       "      <th>avg_vote</th>\n",
       "      <th>votes</th>\n",
       "      <th>budget</th>\n",
       "      <th>usa_gross_income</th>\n",
       "      <th>worlwide_gross_income</th>\n",
       "      <th>reviews_from_users</th>\n",
       "      <th>reviews_from_critics</th>\n",
       "    </tr>\n",
       "  </thead>\n",
       "  <tbody>\n",
       "    <tr>\n",
       "      <th>2</th>\n",
       "      <td>tt0021749</td>\n",
       "      <td>City Lights</td>\n",
       "      <td>1931-08-21</td>\n",
       "      <td>Comedy, Drama, Romance</td>\n",
       "      <td>87</td>\n",
       "      <td>USA</td>\n",
       "      <td>English</td>\n",
       "      <td>Charles Chaplin</td>\n",
       "      <td>Charles Chaplin</td>\n",
       "      <td>Charles Chaplin Productions</td>\n",
       "      <td>Virginia Cherrill, Florence Lee, Harry Myers, ...</td>\n",
       "      <td>8.5</td>\n",
       "      <td>152716</td>\n",
       "      <td>1500000</td>\n",
       "      <td>19181</td>\n",
       "      <td>32609</td>\n",
       "      <td>270.0</td>\n",
       "      <td>120.0</td>\n",
       "    </tr>\n",
       "    <tr>\n",
       "      <th>3</th>\n",
       "      <td>tt0027977</td>\n",
       "      <td>Modern Times</td>\n",
       "      <td>1936-10-16</td>\n",
       "      <td>Comedy, Drama, Family</td>\n",
       "      <td>87</td>\n",
       "      <td>USA</td>\n",
       "      <td>English</td>\n",
       "      <td>Charles Chaplin</td>\n",
       "      <td>Charles Chaplin</td>\n",
       "      <td>Charles Chaplin Productions</td>\n",
       "      <td>Charles Chaplin, Paulette Goddard, Henry Bergm...</td>\n",
       "      <td>8.5</td>\n",
       "      <td>197969</td>\n",
       "      <td>1500000</td>\n",
       "      <td>163577</td>\n",
       "      <td>445226</td>\n",
       "      <td>262.0</td>\n",
       "      <td>146.0</td>\n",
       "    </tr>\n",
       "    <tr>\n",
       "      <th>4</th>\n",
       "      <td>tt0029583</td>\n",
       "      <td>Snow White and the Seven Dwarfs</td>\n",
       "      <td>1938-07-08</td>\n",
       "      <td>Animation, Family, Fantasy</td>\n",
       "      <td>83</td>\n",
       "      <td>USA</td>\n",
       "      <td>English</td>\n",
       "      <td>William Cottrell, David Hand</td>\n",
       "      <td>Jacob Grimm, Wilhelm Grimm</td>\n",
       "      <td>Walt Disney Productions</td>\n",
       "      <td>Roy Atwell, Stuart Buchanan, Adriana Caselotti...</td>\n",
       "      <td>7.6</td>\n",
       "      <td>168735</td>\n",
       "      <td>1499000</td>\n",
       "      <td>184925486</td>\n",
       "      <td>184925486</td>\n",
       "      <td>229.0</td>\n",
       "      <td>166.0</td>\n",
       "    </tr>\n",
       "    <tr>\n",
       "      <th>5</th>\n",
       "      <td>tt0031381</td>\n",
       "      <td>Gone with the Wind</td>\n",
       "      <td>1942-09-04</td>\n",
       "      <td>Drama, History, Romance</td>\n",
       "      <td>238</td>\n",
       "      <td>USA</td>\n",
       "      <td>English</td>\n",
       "      <td>Victor Fleming, George Cukor</td>\n",
       "      <td>Margaret Mitchell, Sidney Howard</td>\n",
       "      <td>Selznick International Pictures</td>\n",
       "      <td>Thomas Mitchell, Barbara O'Neil, Vivien Leigh,...</td>\n",
       "      <td>8.1</td>\n",
       "      <td>269664</td>\n",
       "      <td>3977000</td>\n",
       "      <td>200852579</td>\n",
       "      <td>402352579</td>\n",
       "      <td>808.0</td>\n",
       "      <td>183.0</td>\n",
       "    </tr>\n",
       "    <tr>\n",
       "      <th>6</th>\n",
       "      <td>tt0031679</td>\n",
       "      <td>Mr. Smith Goes to Washington</td>\n",
       "      <td>1940-05-03</td>\n",
       "      <td>Comedy, Drama</td>\n",
       "      <td>129</td>\n",
       "      <td>USA</td>\n",
       "      <td>English</td>\n",
       "      <td>Frank Capra</td>\n",
       "      <td>Sidney Buchman, Lewis R. Foster</td>\n",
       "      <td>Columbia Pictures</td>\n",
       "      <td>Jean Arthur, James Stewart, Claude Rains, Edwa...</td>\n",
       "      <td>8.1</td>\n",
       "      <td>100206</td>\n",
       "      <td>1900000</td>\n",
       "      <td>144738</td>\n",
       "      <td>144738</td>\n",
       "      <td>272.0</td>\n",
       "      <td>110.0</td>\n",
       "    </tr>\n",
       "  </tbody>\n",
       "</table>\n",
       "</div>"
      ],
      "text/plain": [
       "  imdb_title_id                            title date_published  \\\n",
       "2     tt0021749                      City Lights     1931-08-21   \n",
       "3     tt0027977                     Modern Times     1936-10-16   \n",
       "4     tt0029583  Snow White and the Seven Dwarfs     1938-07-08   \n",
       "5     tt0031381               Gone with the Wind     1942-09-04   \n",
       "6     tt0031679     Mr. Smith Goes to Washington     1940-05-03   \n",
       "\n",
       "                        genre  duration country language  \\\n",
       "2      Comedy, Drama, Romance        87     USA  English   \n",
       "3       Comedy, Drama, Family        87     USA  English   \n",
       "4  Animation, Family, Fantasy        83     USA  English   \n",
       "5     Drama, History, Romance       238     USA  English   \n",
       "6               Comedy, Drama       129     USA  English   \n",
       "\n",
       "                       director                            writer  \\\n",
       "2               Charles Chaplin                   Charles Chaplin   \n",
       "3               Charles Chaplin                   Charles Chaplin   \n",
       "4  William Cottrell, David Hand        Jacob Grimm, Wilhelm Grimm   \n",
       "5  Victor Fleming, George Cukor  Margaret Mitchell, Sidney Howard   \n",
       "6                   Frank Capra   Sidney Buchman, Lewis R. Foster   \n",
       "\n",
       "                production_company  \\\n",
       "2      Charles Chaplin Productions   \n",
       "3      Charles Chaplin Productions   \n",
       "4          Walt Disney Productions   \n",
       "5  Selznick International Pictures   \n",
       "6                Columbia Pictures   \n",
       "\n",
       "                                              actors  avg_vote   votes  \\\n",
       "2  Virginia Cherrill, Florence Lee, Harry Myers, ...       8.5  152716   \n",
       "3  Charles Chaplin, Paulette Goddard, Henry Bergm...       8.5  197969   \n",
       "4  Roy Atwell, Stuart Buchanan, Adriana Caselotti...       7.6  168735   \n",
       "5  Thomas Mitchell, Barbara O'Neil, Vivien Leigh,...       8.1  269664   \n",
       "6  Jean Arthur, James Stewart, Claude Rains, Edwa...       8.1  100206   \n",
       "\n",
       "    budget  usa_gross_income  worlwide_gross_income  reviews_from_users  \\\n",
       "2  1500000             19181                  32609               270.0   \n",
       "3  1500000            163577                 445226               262.0   \n",
       "4  1499000         184925486              184925486               229.0   \n",
       "5  3977000         200852579              402352579               808.0   \n",
       "6  1900000            144738                 144738               272.0   \n",
       "\n",
       "   reviews_from_critics  \n",
       "2                 120.0  \n",
       "3                 146.0  \n",
       "4                 166.0  \n",
       "5                 183.0  \n",
       "6                 110.0  "
      ]
     },
     "execution_count": 45,
     "metadata": {},
     "output_type": "execute_result"
    }
   ],
   "source": [
    "data = data.drop(columns = ['description','year'])\n",
    "data.head()"
   ]
  },
  {
   "cell_type": "code",
   "execution_count": 46,
   "metadata": {},
   "outputs": [
    {
     "data": {
      "text/plain": [
       "imdb_title_id             object\n",
       "title                     object\n",
       "date_published            object\n",
       "genre                     object\n",
       "duration                   int64\n",
       "country                   object\n",
       "language                  object\n",
       "director                  object\n",
       "writer                    object\n",
       "production_company        object\n",
       "actors                    object\n",
       "avg_vote                 float64\n",
       "votes                      int64\n",
       "budget                     int64\n",
       "usa_gross_income           int64\n",
       "worlwide_gross_income      int64\n",
       "reviews_from_users       float64\n",
       "reviews_from_critics     float64\n",
       "dtype: object"
      ]
     },
     "execution_count": 46,
     "metadata": {},
     "output_type": "execute_result"
    }
   ],
   "source": [
    "data.dtypes"
   ]
  },
  {
   "cell_type": "code",
   "execution_count": 47,
   "metadata": {},
   "outputs": [
    {
     "ename": "AttributeError",
     "evalue": "'DataFrame' object has no attribute 'to_scv'",
     "output_type": "error",
     "traceback": [
      "\u001b[1;31m---------------------------------------------------------------------------\u001b[0m",
      "\u001b[1;31mAttributeError\u001b[0m                            Traceback (most recent call last)",
      "\u001b[1;32m<ipython-input-47-ee1346f38433>\u001b[0m in \u001b[0;36m<module>\u001b[1;34m\u001b[0m\n\u001b[1;32m----> 1\u001b[1;33m \u001b[0mdata\u001b[0m\u001b[1;33m.\u001b[0m\u001b[0mto_scv\u001b[0m\u001b[1;33m(\u001b[0m\u001b[1;34m'movie_refined_1'\u001b[0m\u001b[1;33m)\u001b[0m\u001b[1;33m\u001b[0m\u001b[1;33m\u001b[0m\u001b[0m\n\u001b[0m",
      "\u001b[1;32mc:\\python\\lib\\site-packages\\pandas\\core\\generic.py\u001b[0m in \u001b[0;36m__getattr__\u001b[1;34m(self, name)\u001b[0m\n\u001b[0;32m   5272\u001b[0m             \u001b[1;32mif\u001b[0m \u001b[0mself\u001b[0m\u001b[1;33m.\u001b[0m\u001b[0m_info_axis\u001b[0m\u001b[1;33m.\u001b[0m\u001b[0m_can_hold_identifiers_and_holds_name\u001b[0m\u001b[1;33m(\u001b[0m\u001b[0mname\u001b[0m\u001b[1;33m)\u001b[0m\u001b[1;33m:\u001b[0m\u001b[1;33m\u001b[0m\u001b[1;33m\u001b[0m\u001b[0m\n\u001b[0;32m   5273\u001b[0m                 \u001b[1;32mreturn\u001b[0m \u001b[0mself\u001b[0m\u001b[1;33m[\u001b[0m\u001b[0mname\u001b[0m\u001b[1;33m]\u001b[0m\u001b[1;33m\u001b[0m\u001b[1;33m\u001b[0m\u001b[0m\n\u001b[1;32m-> 5274\u001b[1;33m             \u001b[1;32mreturn\u001b[0m \u001b[0mobject\u001b[0m\u001b[1;33m.\u001b[0m\u001b[0m__getattribute__\u001b[0m\u001b[1;33m(\u001b[0m\u001b[0mself\u001b[0m\u001b[1;33m,\u001b[0m \u001b[0mname\u001b[0m\u001b[1;33m)\u001b[0m\u001b[1;33m\u001b[0m\u001b[1;33m\u001b[0m\u001b[0m\n\u001b[0m\u001b[0;32m   5275\u001b[0m \u001b[1;33m\u001b[0m\u001b[0m\n\u001b[0;32m   5276\u001b[0m     \u001b[1;32mdef\u001b[0m \u001b[0m__setattr__\u001b[0m\u001b[1;33m(\u001b[0m\u001b[0mself\u001b[0m\u001b[1;33m,\u001b[0m \u001b[0mname\u001b[0m\u001b[1;33m:\u001b[0m \u001b[0mstr\u001b[0m\u001b[1;33m,\u001b[0m \u001b[0mvalue\u001b[0m\u001b[1;33m)\u001b[0m \u001b[1;33m->\u001b[0m \u001b[1;32mNone\u001b[0m\u001b[1;33m:\u001b[0m\u001b[1;33m\u001b[0m\u001b[1;33m\u001b[0m\u001b[0m\n",
      "\u001b[1;31mAttributeError\u001b[0m: 'DataFrame' object has no attribute 'to_scv'"
     ]
    }
   ],
   "source": []
  },
  {
   "cell_type": "code",
   "execution_count": null,
   "metadata": {},
   "outputs": [],
   "source": []
  }
 ],
 "metadata": {
  "kernelspec": {
   "display_name": "Python 3",
   "language": "python",
   "name": "python3"
  },
  "language_info": {
   "codemirror_mode": {
    "name": "ipython",
    "version": 3
   },
   "file_extension": ".py",
   "mimetype": "text/x-python",
   "name": "python",
   "nbconvert_exporter": "python",
   "pygments_lexer": "ipython3",
   "version": "3.7.7"
  }
 },
 "nbformat": 4,
 "nbformat_minor": 4
}
